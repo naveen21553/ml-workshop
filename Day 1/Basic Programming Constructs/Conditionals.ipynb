{
 "cells": [
  {
   "cell_type": "markdown",
   "metadata": {},
   "source": [
    "# Conditionals in Python"
   ]
  },
  {
   "cell_type": "marksdown",
   "metadata": {},
   "source": [
    "## If Statement"
   ]
  },
  {
   "cell_type": "raw",
   "metadata": {},
   "source": [
    "In python the syntax for if statement is - \n",
    "\n",
    "if expression:\n",
    "if x == 5:\n",
    "    print('x is equal to 5')\n",
    "else:\n",
    "    print('x is not 5')"
   ]
  },
  {
   "cell_type": "markdown",
   "metadata": {},
   "source": [
    "if - elif - else"
   ]
  },
  {
   "cell_type": "code",
   "execution_count": 2,
   "metadata": {},
   "outputs": [
    {
     "name": "stdout",
     "output_type": "stream",
     "text": [
      "x is 2\n"
     ]
    }
   ],
   "source": [
    "x = 2\n",
    "\n",
    "if x == 1:\n",
    "    print('x is 1')\n",
    "    \n",
    "elif x == 2:\n",
    "    print('x is 2')\n",
    "    \n",
    "elif x == 3:\n",
    "    print('x is 3')\n",
    "    \n",
    "else:\n",
    "    print('x is not 1 nor 2 nor 3')"
   ]
  },
  {
   "cell_type": "markdown",
   "metadata": {},
   "source": [
    "nested if - else"
   ]
  },
  {
   "cell_type": "code",
   "execution_count": 3,
   "metadata": {},
   "outputs": [
    {
     "name": "stdout",
     "output_type": "stream",
     "text": [
      "x is not between 1 and 5\n"
     ]
    }
   ],
   "source": [
    "x = 5\n",
    "if x > 1:\n",
    "    if x < 5:\n",
    "        print('x is between 1 and 5')\n",
    "    else:\n",
    "        print('x is not between 1 and 5')"
   ]
  },
  {
   "cell_type": "code",
   "execution_count": null,
   "metadata": {},
   "outputs": [],
   "source": []
  }
 ],
 "metadata": {
  "kernelspec": {
   "display_name": "Python 3",
   "language": "python",
   "name": "python3"
  },
  "language_info": {
   "codemirror_mode": {
    "name": "ipython",
    "version": 3
   },
   "file_extension": ".py",
   "mimetype": "text/x-python",
   "name": "python",
   "nbconvert_exporter": "python",
   "pygments_lexer": "ipython3",
   "version": "3.6.4"
  }
 },
 "nbformat": 4,
 "nbformat_minor": 2
}
